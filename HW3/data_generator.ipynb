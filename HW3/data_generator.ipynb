{
 "cells": [
  {
   "cell_type": "code",
   "execution_count": 11,
   "metadata": {},
   "outputs": [],
   "source": [
    "import numpy as np"
   ]
  },
  {
   "cell_type": "code",
   "execution_count": 12,
   "metadata": {},
   "outputs": [],
   "source": [
    "def fun(x):\n",
    "    \"\"\"\n",
    "        Compute a simple quadratic function f:R^5 -> R.\n",
    "\n",
    "    \"\"\"\n",
    "\n",
    "    return 1.3 + 2.*x[0] - 1.1*x[1] + 0.7*x[2]  + 1.2*x[3] + \\\n",
    "            0.4* (x[0]**2) -1.5 *x[1]*x[3] - 0.7 * (x[4]**2) \n",
    "\n",
    "def postfix(N,d,sigma):\n",
    "    \"\"\"Converts parameters into a handy string, to be appended to file names.\"\"\"\n",
    "    return \"_N_%d_d_%d\" % (N,d) \\\n",
    "         + \"_sig_%s\" % str(sigma).replace(\".\",\"_\")"
   ]
  },
  {
   "cell_type": "code",
   "execution_count": 13,
   "metadata": {},
   "outputs": [],
   "source": [
    "# Set random seed for reproducibility    \n",
    "np.random.seed(42)\n",
    "\n",
    "# Number of samples\n",
    "N = 2000\n",
    "\n",
    "# Noise variance \n",
    "sigma = 0.01\n",
    "\n",
    "# Feature dimension\n",
    "d = 40"
   ]
  },
  {
   "cell_type": "code",
   "execution_count": 14,
   "metadata": {},
   "outputs": [
    {
     "name": "stdout",
     "output_type": "stream",
     "text": [
      "Generating dataset with N = 2000, σ = 0.010000, d = 40... done\n"
     ]
    }
   ],
   "source": [
    "print(\"Generating dataset with N = %d, σ = %f, d = %d...\" % (N,sigma,d), end=\"\")\n",
    "\n",
    "# Generate random features\n",
    "\"\"\"\n",
    "    np.random.randn(N, d) generates an array of shape (N, d) filled with random numbers sampled from a standard normal distribution (mean=0, standard deviation=1). Each element in the array represents a feature value.\n",
    "\"\"\"\n",
    "X = np.random.randn(N, d)\n",
    "\n",
    "# Generate pure labels\n",
    "y = []\n",
    "\n",
    "for i in range(N):\n",
    "    y.append(\n",
    "                fun(X[i,:])\n",
    "                )\n",
    "y = np.array(y)\n",
    "\n",
    "# Add noise to labels\n",
    "err = np.random.normal(scale = sigma, size = N)\n",
    "y = y + err     # adding noise to each element in y as noise to add randomness\n",
    "\n",
    "print(\" done\")\n",
    "\n",
    "# print(err.shape)"
   ]
  },
  {
   "cell_type": "code",
   "execution_count": 15,
   "metadata": {},
   "outputs": [
    {
     "name": "stdout",
     "output_type": "stream",
     "text": [
      "Saving X and y...  done\n"
     ]
    }
   ],
   "source": [
    "psfx = postfix(N,d,sigma)\n",
    "\n",
    "print(\"Saving X and y... \",end=\"\")\n",
    "np.save(\"X\" + psfx,X)\n",
    "np.save(\"y\" + psfx,y)\n",
    "# np.savetxt(\"X\" + psfx + \".csv\", X, delimiter=',')\n",
    "# np.savetxt(\"y\" + psfx + \".csv\", y, delimiter=',')\n",
    "\n",
    "print(\" done\")"
   ]
  }
 ],
 "metadata": {
  "kernelspec": {
   "display_name": "Python 3",
   "language": "python",
   "name": "python3"
  },
  "language_info": {
   "codemirror_mode": {
    "name": "ipython",
    "version": 3
   },
   "file_extension": ".py",
   "mimetype": "text/x-python",
   "name": "python",
   "nbconvert_exporter": "python",
   "pygments_lexer": "ipython3",
   "version": "3.10.0"
  }
 },
 "nbformat": 4,
 "nbformat_minor": 2
}
