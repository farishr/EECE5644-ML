{
 "cells": [
  {
   "cell_type": "code",
   "execution_count": 2,
   "metadata": {},
   "outputs": [],
   "source": [
    "def lift(x):\n",
    "    \"\"\"\n",
    "    This function takes a vector x and outputs a vector that contains x\n",
    "    as well as all possible coordinate combinations of the form xi * xj for i >= j.\n",
    "    \"\"\"\n",
    "    d = len(x)\n",
    "\n",
    "    x_lifted = list(x)\n",
    "    \n",
    "    for i in range(d):\n",
    "        for j in range(i + 1):  \n",
    "            if i > j:\n",
    "                x_lifted.append(x[i] * x[j])\n",
    "\n",
    "        x_lifted.append(x[i] ** 2)\n",
    "    \n",
    "    return x_lifted"
   ]
  },
  {
   "cell_type": "code",
   "execution_count": 8,
   "metadata": {},
   "outputs": [],
   "source": [
    "def liftDataset(X):\n",
    "    \"\"\"\n",
    "    This function takes a matrix X and applies the lift function to each row,\n",
    "    returning a new matrix with the lifted rows.\n",
    "    \"\"\"\n",
    "\n",
    "    X_lifted = [lift(row) for row in X]\n",
    "    return X_lifted"
   ]
  },
  {
   "cell_type": "code",
   "execution_count": 11,
   "metadata": {},
   "outputs": [
    {
     "name": "stdout",
     "output_type": "stream",
     "text": [
      "5\n"
     ]
    }
   ],
   "source": [
    "example_vector = [1, 2]\n",
    "lifted_vector = lift(example_vector)\n",
    "print(len(lifted_vector))"
   ]
  },
  {
   "cell_type": "code",
   "execution_count": 12,
   "metadata": {},
   "outputs": [
    {
     "data": {
      "text/plain": [
       "[[1, 2, 1, 2, 4], [3, 4, 9, 12, 16], [5, 6, 25, 30, 36]]"
      ]
     },
     "execution_count": 12,
     "metadata": {},
     "output_type": "execute_result"
    }
   ],
   "source": [
    "X_example = [[1, 2], [3, 4], [5, 6]]\n",
    "X_lifted_example = liftDataset(X_example)\n",
    "X_lifted_example"
   ]
  }
 ],
 "metadata": {
  "kernelspec": {
   "display_name": "Python 3",
   "language": "python",
   "name": "python3"
  },
  "language_info": {
   "codemirror_mode": {
    "name": "ipython",
    "version": 3
   },
   "file_extension": ".py",
   "mimetype": "text/x-python",
   "name": "python",
   "nbconvert_exporter": "python",
   "pygments_lexer": "ipython3",
   "version": "3.10.0"
  }
 },
 "nbformat": 4,
 "nbformat_minor": 2
}
