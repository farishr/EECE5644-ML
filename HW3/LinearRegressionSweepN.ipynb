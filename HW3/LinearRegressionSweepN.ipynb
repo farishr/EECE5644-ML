{
 "cells": [
  {
   "cell_type": "code",
   "execution_count": 8,
   "metadata": {},
   "outputs": [],
   "source": [
    "import numpy as np\n",
    "import pandas as pd\n",
    "from sklearn.model_selection import train_test_split\n",
    "from sklearn.linear_model import LinearRegression\n",
    "import matplotlib.pyplot as plt\n",
    "from sklearn.metrics import root_mean_squared_error as rmse\n",
    "from data_generator import postfix"
   ]
  },
  {
   "cell_type": "code",
   "execution_count": 9,
   "metadata": {},
   "outputs": [],
   "source": [
    "N = 2000    # Number of samples\n",
    "sigma = 0.01    # Noise variance \n",
    "d = 5       # Feature dimension"
   ]
  },
  {
   "cell_type": "code",
   "execution_count": 10,
   "metadata": {},
   "outputs": [
    {
     "name": "stdout",
     "output_type": "stream",
     "text": [
      "Dataset has n=2000 samples, each with d=5 features, as well as 2000 labels.\n"
     ]
    }
   ],
   "source": [
    "psfx = postfix(N,d,sigma)       \n",
    "\n",
    "X = np.load(\"X\"+psfx+\".npy\")\n",
    "y = np.load(\"y\"+psfx+\".npy\")\n",
    "\n",
    "print(\"Dataset has n=%d samples, each with d=%d features,\" % X.shape,\"as well as %d labels.\" % y.shape[0])"
   ]
  },
  {
   "cell_type": "code",
   "execution_count": 11,
   "metadata": {},
   "outputs": [
    {
     "name": "stdout",
     "output_type": "stream",
     "text": [
      "Randomly split dataset to 1400 training and 600 test samples\n"
     ]
    }
   ],
   "source": [
    "X_train, X_test, y_train, y_test = train_test_split(\n",
    "    X, y, test_size=0.30, random_state=42)\n",
    "\n",
    "print(\"Randomly split dataset to %d training and %d test samples\" % (X_train.shape[0],X_test.shape[0]))"
   ]
  },
  {
   "cell_type": "code",
   "execution_count": 12,
   "metadata": {},
   "outputs": [],
   "source": [
    "fracSize = int(X_train.shape[0]*0.1)\n",
    "training_rmse = []\n",
    "test_rmse = []\n",
    "\n",
    "for i in np.arange(0.1, 1.1, 0.1):\n",
    "    fracSize = int(X_train.shape[0]*i)\n",
    "    X_train_frac = X_train[0:fracSize,:]\n",
    "    y_train_frac = y_train[0:fracSize]\n",
    "\n",
    "    # Train the linear regression model\n",
    "    model = LinearRegression()\n",
    "    model.fit(X_train_frac, y_train_frac)\n",
    "\n",
    "    rmse_train = rmse(y_train_frac,model.predict(X_train_frac))\n",
    "    rmse_test = rmse(y_test,model.predict(X_test))\n",
    "\n",
    "    training_rmse.append(rmse_train)\n",
    "    test_rmse.append(rmse_test)"
   ]
  },
  {
   "cell_type": "code",
   "execution_count": 13,
   "metadata": {},
   "outputs": [
    {
     "data": {
      "text/html": [
       "<div>\n",
       "<style scoped>\n",
       "    .dataframe tbody tr th:only-of-type {\n",
       "        vertical-align: middle;\n",
       "    }\n",
       "\n",
       "    .dataframe tbody tr th {\n",
       "        vertical-align: top;\n",
       "    }\n",
       "\n",
       "    .dataframe thead th {\n",
       "        text-align: right;\n",
       "    }\n",
       "</style>\n",
       "<table border=\"1\" class=\"dataframe\">\n",
       "  <thead>\n",
       "    <tr style=\"text-align: right;\">\n",
       "      <th></th>\n",
       "      <th>Fraction %</th>\n",
       "      <th>Training_RMSE</th>\n",
       "      <th>Test_RMSE</th>\n",
       "    </tr>\n",
       "  </thead>\n",
       "  <tbody>\n",
       "    <tr>\n",
       "      <th>0</th>\n",
       "      <td>10</td>\n",
       "      <td>2.069377</td>\n",
       "      <td>1.777381</td>\n",
       "    </tr>\n",
       "    <tr>\n",
       "      <th>1</th>\n",
       "      <td>20</td>\n",
       "      <td>1.956875</td>\n",
       "      <td>1.758356</td>\n",
       "    </tr>\n",
       "    <tr>\n",
       "      <th>2</th>\n",
       "      <td>30</td>\n",
       "      <td>2.005177</td>\n",
       "      <td>1.756408</td>\n",
       "    </tr>\n",
       "    <tr>\n",
       "      <th>3</th>\n",
       "      <td>40</td>\n",
       "      <td>1.958939</td>\n",
       "      <td>1.735337</td>\n",
       "    </tr>\n",
       "    <tr>\n",
       "      <th>4</th>\n",
       "      <td>50</td>\n",
       "      <td>1.923066</td>\n",
       "      <td>1.739146</td>\n",
       "    </tr>\n",
       "    <tr>\n",
       "      <th>5</th>\n",
       "      <td>60</td>\n",
       "      <td>1.927546</td>\n",
       "      <td>1.739929</td>\n",
       "    </tr>\n",
       "    <tr>\n",
       "      <th>6</th>\n",
       "      <td>70</td>\n",
       "      <td>1.886700</td>\n",
       "      <td>1.737302</td>\n",
       "    </tr>\n",
       "    <tr>\n",
       "      <th>7</th>\n",
       "      <td>80</td>\n",
       "      <td>1.884396</td>\n",
       "      <td>1.736366</td>\n",
       "    </tr>\n",
       "    <tr>\n",
       "      <th>8</th>\n",
       "      <td>90</td>\n",
       "      <td>1.873208</td>\n",
       "      <td>1.738248</td>\n",
       "    </tr>\n",
       "    <tr>\n",
       "      <th>9</th>\n",
       "      <td>100</td>\n",
       "      <td>1.896895</td>\n",
       "      <td>1.738106</td>\n",
       "    </tr>\n",
       "  </tbody>\n",
       "</table>\n",
       "</div>"
      ],
      "text/plain": [
       "   Fraction %  Training_RMSE  Test_RMSE\n",
       "0          10       2.069377   1.777381\n",
       "1          20       1.956875   1.758356\n",
       "2          30       2.005177   1.756408\n",
       "3          40       1.958939   1.735337\n",
       "4          50       1.923066   1.739146\n",
       "5          60       1.927546   1.739929\n",
       "6          70       1.886700   1.737302\n",
       "7          80       1.884396   1.736366\n",
       "8          90       1.873208   1.738248\n",
       "9         100       1.896895   1.738106"
      ]
     },
     "execution_count": 13,
     "metadata": {},
     "output_type": "execute_result"
    }
   ],
   "source": [
    "\n",
    "results_df = pd.DataFrame({\n",
    "    'Fraction %': np.arange(10, 110, 10),\n",
    "    'Training_RMSE': training_rmse,\n",
    "    'Test_RMSE': test_rmse\n",
    "})\n",
    "\n",
    "results_df"
   ]
  },
  {
   "cell_type": "code",
   "execution_count": 14,
   "metadata": {},
   "outputs": [
    {
     "data": {
      "image/png": "[encoded data removed]",
      "text/plain": [
       "<Figure size 1000x600 with 1 Axes>"
      ]
     },
     "metadata": {},
     "output_type": "display_data"
    }
   ],
   "source": [
    "trainDataFraction = np.linspace(10, 110, 10)\n",
    "# Plotting\n",
    "plt.figure(figsize=(10, 6))\n",
    "plt.plot(trainDataFraction, training_rmse, label='Train RMSE', color='red')\n",
    "plt.plot(trainDataFraction, test_rmse, label='Test RMSE', color='green')\n",
    "\n",
    "# plt.fill_between(dates[window_size - 1:], upper_band, lower_band, color='lightgray', alpha=0.4, label='Bollinger Bands')\n",
    "plt.title('RMSE VS Training Data %')\n",
    "plt.xlabel('Train Data %')\n",
    "plt.ylabel('RMSE')\n",
    "plt.legend()\n",
    "plt.show()"
   ]
  }
 ],
 "metadata": {
  "kernelspec": {
   "display_name": "Python 3",
   "language": "python",
   "name": "python3"
  },
  "language_info": {
   "codemirror_mode": {
    "name": "ipython",
    "version": 3
   },
   "file_extension": ".py",
   "mimetype": "text/x-python",
   "name": "python",
   "nbconvert_exporter": "python",
   "pygments_lexer": "ipython3",
   "version": "3.10.0"
  }
 },
 "nbformat": 4,
 "nbformat_minor": 2
}
