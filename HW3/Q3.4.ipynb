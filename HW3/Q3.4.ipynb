{
 "cells": [
  {
   "cell_type": "code",
   "execution_count": 63,
   "metadata": {},
   "outputs": [],
   "source": [
    "import numpy as np\n",
    "import pandas as pd\n",
    "from sklearn.model_selection import train_test_split\n",
    "from sklearn.linear_model import LinearRegression\n",
    "import matplotlib.pyplot as plt\n",
    "from sklearn.metrics import root_mean_squared_error as rmse\n",
    "from data_generator import postfix, lift, liftDataset"
   ]
  },
  {
   "cell_type": "code",
   "execution_count": 64,
   "metadata": {},
   "outputs": [],
   "source": [
    "N = 1000    # Number of samples\n",
    "sigma = 0.01    # Noise variance \n",
    "d = 5       # Feature dimension"
   ]
  },
  {
   "cell_type": "code",
   "execution_count": 65,
   "metadata": {},
   "outputs": [
    {
     "name": "stdout",
     "output_type": "stream",
     "text": [
      "Dataset has n=1000 samples, each with d=5 features, as well as 1000 labels.\n"
     ]
    }
   ],
   "source": [
    "psfx = postfix(N,d,sigma)       \n",
    "\n",
    "unliftX = np.load(\"X\"+psfx+\".npy\")\n",
    "y = np.load(\"y\"+psfx+\".npy\")\n",
    "\n",
    "print(\"Dataset has n=%d samples, each with d=%d features,\" % unliftX.shape,\"as well as %d labels.\" % y.shape[0])"
   ]
  },
  {
   "cell_type": "code",
   "execution_count": 66,
   "metadata": {},
   "outputs": [
    {
     "name": "stdout",
     "output_type": "stream",
     "text": [
      "Randomly split dataset to 700 training and 300 test samples\n"
     ]
    }
   ],
   "source": [
    "X = np.array(liftDataset(unliftX))\n",
    "\n",
    "X_train, X_test, y_train, y_test = train_test_split(\n",
    "    X, y, test_size=0.30, random_state=42)\n",
    "\n",
    "print(\"Randomly split dataset to %d training and %d test samples\" % (X_train.shape[0],X_test.shape[0]))"
   ]
  },
  {
   "cell_type": "code",
   "execution_count": 67,
   "metadata": {},
   "outputs": [],
   "source": [
    "fracSize = int(X_train.shape[0]*0.1)\n",
    "training_rmse = []\n",
    "test_rmse = []\n",
    "\n",
    "for i in np.arange(0.1, 1.1, 0.1):\n",
    "    fracSize = int(X_train.shape[0]*i)\n",
    "    X_train_frac = X_train[0:fracSize,:]\n",
    "    y_train_frac = y_train[0:fracSize]\n",
    "\n",
    "    # Train the linear regression model\n",
    "    model = LinearRegression()\n",
    "    model.fit(X_train_frac, y_train_frac)\n",
    "\n",
    "    rmse_train = rmse(y_train_frac,model.predict(X_train_frac))\n",
    "    rmse_test = rmse(y_test,model.predict(X_test))\n",
    "\n",
    "    training_rmse.append(rmse_train)\n",
    "    test_rmse.append(rmse_test)"
   ]
  },
  {
   "cell_type": "code",
   "execution_count": 68,
   "metadata": {},
   "outputs": [
    {
     "data": {
      "text/html": [
       "<div>\n",
       "<style scoped>\n",
       "    .dataframe tbody tr th:only-of-type {\n",
       "        vertical-align: middle;\n",
       "    }\n",
       "\n",
       "    .dataframe tbody tr th {\n",
       "        vertical-align: top;\n",
       "    }\n",
       "\n",
       "    .dataframe thead th {\n",
       "        text-align: right;\n",
       "    }\n",
       "</style>\n",
       "<table border=\"1\" class=\"dataframe\">\n",
       "  <thead>\n",
       "    <tr style=\"text-align: right;\">\n",
       "      <th></th>\n",
       "      <th>Fraction %</th>\n",
       "      <th>Training_RMSE</th>\n",
       "      <th>Test_RMSE</th>\n",
       "    </tr>\n",
       "  </thead>\n",
       "  <tbody>\n",
       "    <tr>\n",
       "      <th>0</th>\n",
       "      <td>10</td>\n",
       "      <td>0.007980</td>\n",
       "      <td>0.011920</td>\n",
       "    </tr>\n",
       "    <tr>\n",
       "      <th>1</th>\n",
       "      <td>20</td>\n",
       "      <td>0.009054</td>\n",
       "      <td>0.010700</td>\n",
       "    </tr>\n",
       "    <tr>\n",
       "      <th>2</th>\n",
       "      <td>30</td>\n",
       "      <td>0.009497</td>\n",
       "      <td>0.010433</td>\n",
       "    </tr>\n",
       "    <tr>\n",
       "      <th>3</th>\n",
       "      <td>40</td>\n",
       "      <td>0.009515</td>\n",
       "      <td>0.010376</td>\n",
       "    </tr>\n",
       "    <tr>\n",
       "      <th>4</th>\n",
       "      <td>50</td>\n",
       "      <td>0.009724</td>\n",
       "      <td>0.010385</td>\n",
       "    </tr>\n",
       "    <tr>\n",
       "      <th>5</th>\n",
       "      <td>60</td>\n",
       "      <td>0.009744</td>\n",
       "      <td>0.010416</td>\n",
       "    </tr>\n",
       "    <tr>\n",
       "      <th>6</th>\n",
       "      <td>70</td>\n",
       "      <td>0.009865</td>\n",
       "      <td>0.010438</td>\n",
       "    </tr>\n",
       "    <tr>\n",
       "      <th>7</th>\n",
       "      <td>80</td>\n",
       "      <td>0.010012</td>\n",
       "      <td>0.010367</td>\n",
       "    </tr>\n",
       "    <tr>\n",
       "      <th>8</th>\n",
       "      <td>90</td>\n",
       "      <td>0.010015</td>\n",
       "      <td>0.010283</td>\n",
       "    </tr>\n",
       "    <tr>\n",
       "      <th>9</th>\n",
       "      <td>100</td>\n",
       "      <td>0.009915</td>\n",
       "      <td>0.010269</td>\n",
       "    </tr>\n",
       "  </tbody>\n",
       "</table>\n",
       "</div>"
      ],
      "text/plain": [
       "   Fraction %  Training_RMSE  Test_RMSE\n",
       "0          10       0.007980   0.011920\n",
       "1          20       0.009054   0.010700\n",
       "2          30       0.009497   0.010433\n",
       "3          40       0.009515   0.010376\n",
       "4          50       0.009724   0.010385\n",
       "5          60       0.009744   0.010416\n",
       "6          70       0.009865   0.010438\n",
       "7          80       0.010012   0.010367\n",
       "8          90       0.010015   0.010283\n",
       "9         100       0.009915   0.010269"
      ]
     },
     "execution_count": 68,
     "metadata": {},
     "output_type": "execute_result"
    }
   ],
   "source": [
    "results_df = pd.DataFrame({\n",
    "    'Fraction %': np.arange(10, 110, 10),\n",
    "    'Training_RMSE': training_rmse,\n",
    "    'Test_RMSE': test_rmse\n",
    "})\n",
    "\n",
    "results_df"
   ]
  },
  {
   "cell_type": "code",
   "execution_count": 69,
   "metadata": {},
   "outputs": [
    {
     "data": {
      "image/png": "[encoded data removed]",
      "text/plain": [
       "<Figure size 1000x600 with 1 Axes>"
      ]
     },
     "metadata": {},
     "output_type": "display_data"
    }
   ],
   "source": [
    "trainDataFraction = np.linspace(10, 110, 10)\n",
    "# Plotting\n",
    "plt.figure(figsize=(10, 6))\n",
    "plt.plot(trainDataFraction, training_rmse, label='Train RMSE', color='red')\n",
    "plt.plot(trainDataFraction, test_rmse, label='Test RMSE', color='green')\n",
    "\n",
    "# plt.fill_between(dates[window_size - 1:], upper_band, lower_band, color='lightgray', alpha=0.4, label='Bollinger Bands')\n",
    "plt.title('RMSE VS Training Data %')\n",
    "plt.xlabel('Train Data %')\n",
    "plt.ylabel('RMSE')\n",
    "plt.legend()\n",
    "plt.show()"
   ]
  },
  {
   "cell_type": "code",
   "execution_count": 70,
   "metadata": {},
   "outputs": [
    {
     "name": "stdout",
     "output_type": "stream",
     "text": [
      "1.9999356138239361\n",
      "-1.0999590150019678\n",
      "0.6996756680568659\n",
      "1.2001482472462324\n",
      "0.0004378826172674991\n",
      "0.4001429591559226\n",
      "1.1666952090093042e-05\n",
      "-0.00010252285949221131\n",
      "0.00025488320977353027\n",
      "-0.0001354170157950739\n",
      "-0.00030452198632967346\n",
      "-5.82237320955194e-05\n",
      "-1.4996662279411348\n",
      "-0.0007288724676241509\n",
      "-0.00031356409861272856\n",
      "0.0006085120013397387\n",
      "-2.2225406131024266e-05\n",
      "-0.0003609649238274226\n",
      "-0.0009760896281174325\n",
      "-0.7001106248691662\n"
     ]
    }
   ],
   "source": [
    "for val in model.coef_:\n",
    "    print(val)"
   ]
  },
  {
   "cell_type": "code",
   "execution_count": 71,
   "metadata": {},
   "outputs": [
    {
     "data": {
      "text/plain": [
       "1.300102736996092"
      ]
     },
     "execution_count": 71,
     "metadata": {},
     "output_type": "execute_result"
    }
   ],
   "source": [
    "model.intercept_"
   ]
  }
 ],
 "metadata": {
  "kernelspec": {
   "display_name": "Python 3",
   "language": "python",
   "name": "python3"
  },
  "language_info": {
   "codemirror_mode": {
    "name": "ipython",
    "version": 3
   },
   "file_extension": ".py",
   "mimetype": "text/x-python",
   "name": "python",
   "nbconvert_exporter": "python",
   "pygments_lexer": "ipython3",
   "version": "3.10.0"
  }
 },
 "nbformat": 4,
 "nbformat_minor": 2
}
